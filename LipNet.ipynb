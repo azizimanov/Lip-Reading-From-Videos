{
 "cells": [
  {
   "cell_type": "code",
   "id": "initial_id",
   "metadata": {
    "ExecuteTime": {
     "end_time": "2025-01-24T08:04:57.133499Z",
     "start_time": "2025-01-24T08:04:57.120865Z"
    }
   },
   "source": [
    "# !pip install opencv-python matplotlib imageio gdown tensorflow"
   ],
   "outputs": [],
   "execution_count": 44
  },
  {
   "cell_type": "code",
   "id": "dcfaca7fab6631f",
   "metadata": {
    "ExecuteTime": {
     "end_time": "2025-02-07T20:19:15.576364Z",
     "start_time": "2025-02-07T20:18:53.809022Z"
    }
   },
   "source": [
    "import os\n",
    "import cv2\n",
    "import tensorflow as tf\n",
    "import numpy as np\n",
    "from typing import List\n",
    "import matplotlib.pyplot as plt\n",
    "import imageio\n",
    "from web_app.utils import char_to_num"
   ],
   "outputs": [],
   "execution_count": 2
  },
  {
   "cell_type": "code",
   "id": "71c6f4aa-24ac-47af-8be7-a8bda8a15d99",
   "metadata": {
    "ExecuteTime": {
     "end_time": "2025-01-24T08:04:57.219778Z",
     "start_time": "2025-01-24T08:04:57.214566Z"
    }
   },
   "source": "print('GPUs available: ', tf.config.list_physical_devices('GPU'))",
   "outputs": [
    {
     "name": "stdout",
     "output_type": "stream",
     "text": [
      "GPUs available:  [PhysicalDevice(name='/physical_device:GPU:0', device_type='GPU')]\n"
     ]
    }
   ],
   "execution_count": 46
  },
  {
   "cell_type": "code",
   "id": "fd0de176-e789-4488-9120-84346230539e",
   "metadata": {
    "ExecuteTime": {
     "end_time": "2025-01-24T08:04:57.237284Z",
     "start_time": "2025-01-24T08:04:57.233226Z"
    }
   },
   "source": [
    "# Enabling a GPU for processing if one is available:\n",
    "physical_devices = tf.config.list_physical_devices('GPU')\n",
    "\n",
    "try:\n",
    "    tf.config.experimental.set_memory_growth(physical_devices[0], True)\n",
    "except:\n",
    "    pass"
   ],
   "outputs": [],
   "execution_count": 47
  },
  {
   "cell_type": "code",
   "id": "23401f15-05b2-4037-930d-69d3ef066782",
   "metadata": {
    "ExecuteTime": {
     "end_time": "2025-01-24T08:04:57.265825Z",
     "start_time": "2025-01-24T08:04:57.263364Z"
    }
   },
   "source": [
    "import gdown"
   ],
   "outputs": [],
   "execution_count": 48
  },
  {
   "cell_type": "code",
   "id": "7cc8a15d-eb02-4540-af6c-9c510d47d196",
   "metadata": {
    "scrolled": true,
    "ExecuteTime": {
     "end_time": "2025-01-24T08:04:57.288637Z",
     "start_time": "2025-01-24T08:04:57.285557Z"
    }
   },
   "source": [
    "# Downloading the dataset:\n",
    "\n",
    "url = 'https://drive.google.com/uc?id=1YlvpDLix3S-U8fd-gqRwPcWXAXm8JwjL'\n",
    "output = 'data.zip'\n",
    "gdown.download(url, output, quiet=False)\n",
    "gdown.extractall('data.zip')"
   ],
   "outputs": [],
   "execution_count": 49
  },
  {
   "cell_type": "code",
   "id": "18de4803-3cf1-497e-8e1d-a810f7dd1be5",
   "metadata": {
    "ExecuteTime": {
     "end_time": "2025-02-07T21:41:36.708409Z",
     "start_time": "2025-02-07T21:41:36.704675Z"
    }
   },
   "source": [
    "# Extracting the frames from a video in a grayscale format and cropping to a specific region:\n",
    "def load_video(path: str) -> List[float]:\n",
    "    cap = cv2.VideoCapture(path)\n",
    "    frames = []\n",
    "    for _ in range(int(cap.get(cv2.CAP_PROP_FRAME_COUNT))):\n",
    "        ret, frame = cap.read()\n",
    "        frame = tf.image.rgb_to_grayscale(frame)\n",
    "        frames.append(frame[190:236, 80:220, :])\n",
    "    cap.release()\n",
    "\n",
    "    # Normalizing the frames tensor:\n",
    "    mean = tf.math.reduce_mean(frames)\n",
    "    std = tf.math.reduce_std(tf.cast(frames, tf.float32))\n",
    "    return tf.cast((frames - mean), tf.float32) / std\n"
   ],
   "outputs": [],
   "execution_count": 9
  },
  {
   "metadata": {
    "ExecuteTime": {
     "end_time": "2025-02-04T07:45:41.780383Z",
     "start_time": "2025-02-04T07:45:41.775103Z"
    }
   },
   "cell_type": "code",
   "source": [
    "# Creating a vocabulary of characters and numbers:\n",
    "vocab = [x for x in \"abcdefgihjklmnopqrstuvwxyz'?!123456789 \"]"
   ],
   "id": "9b7b2b0b58875e04",
   "outputs": [
    {
     "name": "stdout",
     "output_type": "stream",
     "text": [
      "['a', 'b', 'c', 'd', 'e', 'f', 'g', 'i', 'h', 'j', 'k', 'l', 'm', 'n', 'o', 'p', 'q', 'r', 's', 't', 'u', 'v', 'w', 'x', 'y', 'z', \"'\", '?', '!', '1', '2', '3', '4', '5', '6', '7', '8', '9', ' ']\n"
     ]
    }
   ],
   "execution_count": 1
  },
  {
   "metadata": {
    "ExecuteTime": {
     "end_time": "2025-02-04T07:54:28.331937Z",
     "start_time": "2025-02-04T07:54:28.317690Z"
    }
   },
   "cell_type": "code",
   "source": [
    "# Creating lookup converter methods for numbers and characters:\n",
    "char_to_num = tf.keras.layers.StringLookup(vocabulary=vocab, oov_token=\"\")\n",
    "num_to_char = tf.keras.layers.StringLookup(vocabulary=char_to_num.get_vocabulary(), oov_token=\"\", invert=True)\n",
    "\n",
    "print(f'The vocabulary is: {char_to_num.get_vocabulary()}'\n",
    "      f'(size={char_to_num.vocabulary_size()})')"
   ],
   "id": "db986e03a68964d0",
   "outputs": [
    {
     "name": "stdout",
     "output_type": "stream",
     "text": [
      "The vocabulary is: ['', 'a', 'b', 'c', 'd', 'e', 'f', 'g', 'i', 'h', 'j', 'k', 'l', 'm', 'n', 'o', 'p', 'q', 'r', 's', 't', 'u', 'v', 'w', 'x', 'y', 'z', \"'\", '?', '!', '1', '2', '3', '4', '5', '6', '7', '8', '9', ' '](size=40)\n"
     ]
    }
   ],
   "execution_count": 5
  },
  {
   "metadata": {
    "ExecuteTime": {
     "end_time": "2025-02-07T21:41:44.865638Z",
     "start_time": "2025-02-07T21:41:44.862575Z"
    }
   },
   "cell_type": "code",
   "source": [
    "# Loading alignments for the frames:\n",
    "def load_alignments(path:str) -> List[str]:\n",
    "    with open(path, 'r') as f:\n",
    "        lines = f.readlines()\n",
    "    tokens = []\n",
    "    for line in lines:\n",
    "        line = line.split()\n",
    "        if line[2] != 'sil':\n",
    "            tokens = [*tokens, ' ', line[2]]\n",
    "    return char_to_num(tf.reshape(tf.strings.unicode_split(tokens, input_encoding='UTF-8'), (-1))[1:])"
   ],
   "id": "fa914d01e94357ec",
   "outputs": [],
   "execution_count": 11
  },
  {
   "metadata": {
    "ExecuteTime": {
     "end_time": "2025-02-07T21:39:35.128356Z",
     "start_time": "2025-02-07T21:39:35.121394Z"
    }
   },
   "cell_type": "code",
   "source": [
    "# Loading the data:\n",
    "def load_data(path):\n",
    "    path = bytes.decode(path.numpy())\n",
    "    file_name = os.path.splitext(os.path.basename(path))[0]\n",
    "    video_path = os.path.join('data', 's1', f'{file_name}.mpg')\n",
    "    alignment_path = os.path.join('data', 'alignments', 's1', f'{file_name}.align')\n",
    "    frames = load_video(video_path)\n",
    "    alignments = load_alignments(alignment_path)\n",
    "\n",
    "    return frames,  alignments"
   ],
   "id": "d72aef6c13ab1f86",
   "outputs": [],
   "execution_count": 5
  },
  {
   "metadata": {
    "ExecuteTime": {
     "end_time": "2025-02-07T21:41:21.617014Z",
     "start_time": "2025-02-07T21:41:21.614407Z"
    }
   },
   "cell_type": "code",
   "source": "test_path = os.path.join('data', 's1', 'bbal6n.mpg')",
   "id": "aaf53ed6d2a69c0f",
   "outputs": [],
   "execution_count": 6
  },
  {
   "metadata": {
    "ExecuteTime": {
     "end_time": "2025-02-07T21:41:25.147571Z",
     "start_time": "2025-02-07T21:41:25.142427Z"
    }
   },
   "cell_type": "code",
   "source": "tf.convert_to_tensor(test_path)",
   "id": "427e6845f7b13885",
   "outputs": [
    {
     "data": {
      "text/plain": [
       "<tf.Tensor: shape=(), dtype=string, numpy=b'data/s1/bbal6n.mpg'>"
      ]
     },
     "execution_count": 7,
     "metadata": {},
     "output_type": "execute_result"
    }
   ],
   "execution_count": 7
  },
  {
   "metadata": {},
   "cell_type": "code",
   "source": "load_data(tf.convert_to_tensor(test_path))",
   "id": "20f8d20b8b197507",
   "outputs": [],
   "execution_count": null
  },
  {
   "metadata": {
    "ExecuteTime": {
     "end_time": "2025-02-07T21:56:29.027727Z",
     "start_time": "2025-02-07T21:56:29.024399Z"
    }
   },
   "cell_type": "code",
   "source": [
    "# Extracting the name of a file for testing:\n",
    "tf.convert_to_tensor(test_path).numpy().decode('utf-8')\n",
    "os.path.splitext(os.path.basename(test_path))[0]"
   ],
   "id": "80cfccb051cfde3e",
   "outputs": [
    {
     "data": {
      "text/plain": [
       "'bbal6n'"
      ]
     },
     "execution_count": 17,
     "metadata": {},
     "output_type": "execute_result"
    }
   ],
   "execution_count": 17
  },
  {
   "metadata": {
    "ExecuteTime": {
     "end_time": "2025-02-07T21:56:18.646925Z",
     "start_time": "2025-02-07T21:56:18.350874Z"
    }
   },
   "cell_type": "code",
   "source": [
    "# Getting the frames and alignments paths:\n",
    "frames, alignments = load_data(tf.convert_to_tensor(test_path))"
   ],
   "id": "3d649ea22bb786ec",
   "outputs": [],
   "execution_count": 15
  },
  {
   "metadata": {
    "ExecuteTime": {
     "end_time": "2025-02-07T21:56:50.404241Z",
     "start_time": "2025-02-07T21:56:50.401937Z"
    }
   },
   "cell_type": "code",
   "source": "print(frames.shape)",
   "id": "c75ad1e6caeed3d3",
   "outputs": [
    {
     "name": "stdout",
     "output_type": "stream",
     "text": [
      "(75, 46, 140, 1)\n"
     ]
    }
   ],
   "execution_count": 18
  },
  {
   "metadata": {
    "ExecuteTime": {
     "end_time": "2025-02-07T21:56:51.569298Z",
     "start_time": "2025-02-07T21:56:51.402810Z"
    }
   },
   "cell_type": "code",
   "source": "plt.imshow(frames[40])",
   "id": "cbe02a623f52c379",
   "outputs": [
    {
     "data": {
      "text/plain": [
       "<matplotlib.image.AxesImage at 0x3654baad0>"
      ]
     },
     "execution_count": 19,
     "metadata": {},
     "output_type": "execute_result"
    },
    {
     "data": {
      "text/plain": [
       "<Figure size 640x480 with 1 Axes>"
      ],
      "image/png": "[encoded data removed]"
     },
     "metadata": {},
     "output_type": "display_data"
    }
   ],
   "execution_count": 19
  },
  {
   "metadata": {
    "ExecuteTime": {
     "end_time": "2025-01-24T08:04:58.480804Z",
     "start_time": "2025-01-24T08:04:58.474398Z"
    }
   },
   "cell_type": "code",
   "source": "tf.strings.reduce_join([bytes.decode(x) for x in num_to_char(alignments.numpy()).numpy()])",
   "id": "1719c8531da94f65",
   "outputs": [
    {
     "data": {
      "text/plain": [
       "<tf.Tensor: shape=(), dtype=string, numpy=b'bin blue at l six now'>"
      ]
     },
     "execution_count": 61,
     "metadata": {},
     "output_type": "execute_result"
    }
   ],
   "execution_count": 61
  },
  {
   "metadata": {
    "ExecuteTime": {
     "end_time": "2025-02-08T03:53:50.428462Z",
     "start_time": "2025-02-08T03:53:50.425974Z"
    }
   },
   "cell_type": "code",
   "source": [
    "def mappable_function(path:str):\n",
    "    result = tf.py_function(load_data, [path], (tf.float32, tf.int64))\n",
    "    return result"
   ],
   "id": "8d16f925c762e772",
   "outputs": [],
   "execution_count": 21
  },
  {
   "metadata": {},
   "cell_type": "markdown",
   "source": "### Building the Data Pipeline ###",
   "id": "a8ab3cdd546a8186"
  },
  {
   "metadata": {
    "ExecuteTime": {
     "end_time": "2025-01-24T08:16:34.995676Z",
     "start_time": "2025-01-24T08:16:34.748249Z"
    }
   },
   "cell_type": "code",
   "source": [
    "data = tf.data.Dataset.list_files(os.path.join('.', 'data', 's1', '*.mpg'))\n",
    "data = data.shuffle(500, reshuffle_each_iteration=False)\n",
    "data = data.map(mappable_function)\n",
    "data = data.padded_batch(batch_size=2, padded_shapes=([75, None, None, None], [40]))\n",
    "data = data.prefetch(tf.data.AUTOTUNE)\n",
    "\n",
    "# Splitting the data:\n",
    "train = data.take(450)\n",
    "test = data.skip(450)"
   ],
   "id": "e7ae2cb18e9b2c5a",
   "outputs": [],
   "execution_count": 86
  },
  {
   "metadata": {
    "ExecuteTime": {
     "end_time": "2025-01-24T08:17:10.657181Z",
     "start_time": "2025-01-24T08:17:10.641714Z"
    }
   },
   "cell_type": "code",
   "source": "len(train)",
   "id": "91fbd3c221bb4996",
   "outputs": [
    {
     "data": {
      "text/plain": [
       "450"
      ]
     },
     "execution_count": 88,
     "metadata": {},
     "output_type": "execute_result"
    }
   ],
   "execution_count": 88
  },
  {
   "metadata": {
    "ExecuteTime": {
     "end_time": "2025-01-24T08:16:53.482354Z",
     "start_time": "2025-01-24T08:16:53.472937Z"
    }
   },
   "cell_type": "code",
   "source": "len(test)",
   "id": "64b69451892831a1",
   "outputs": [
    {
     "data": {
      "text/plain": [
       "50"
      ]
     },
     "execution_count": 87,
     "metadata": {},
     "output_type": "execute_result"
    }
   ],
   "execution_count": 87
  },
  {
   "metadata": {
    "ExecuteTime": {
     "end_time": "2025-01-24T08:04:59.418852Z",
     "start_time": "2025-01-24T08:04:58.586876Z"
    }
   },
   "cell_type": "code",
   "source": "frames, alignments = data.as_numpy_iterator().next()",
   "id": "2f507febcab4ec55",
   "outputs": [],
   "execution_count": 64
  },
  {
   "metadata": {
    "ExecuteTime": {
     "end_time": "2025-01-24T08:04:59.437961Z",
     "start_time": "2025-01-24T08:04:59.434964Z"
    }
   },
   "cell_type": "code",
   "source": "len(frames)",
   "id": "d6b2bd5e95faf532",
   "outputs": [
    {
     "data": {
      "text/plain": [
       "2"
      ]
     },
     "execution_count": 65,
     "metadata": {},
     "output_type": "execute_result"
    }
   ],
   "execution_count": 65
  },
  {
   "metadata": {
    "ExecuteTime": {
     "end_time": "2025-01-24T08:04:59.989221Z",
     "start_time": "2025-01-24T08:04:59.444884Z"
    }
   },
   "cell_type": "code",
   "source": [
    "test = data.as_numpy_iterator()\n",
    "val = test.next(); val[0]"
   ],
   "id": "3fa026b2d40ec132",
   "outputs": [
    {
     "data": {
      "text/plain": [
       "array([[[[[1.4243459 ],\n",
       "          [1.4243459 ],\n",
       "          [1.4243459 ],\n",
       "          ...,\n",
       "          [0.2921735 ],\n",
       "          [0.2556518 ],\n",
       "          [0.2556518 ]],\n",
       "\n",
       "         [[1.4243459 ],\n",
       "          [1.4243459 ],\n",
       "          [1.4243459 ],\n",
       "          ...,\n",
       "          [0.2921735 ],\n",
       "          [0.2556518 ],\n",
       "          [0.2556518 ]],\n",
       "\n",
       "         [[1.4608675 ],\n",
       "          [1.4608675 ],\n",
       "          [1.4243459 ],\n",
       "          ...,\n",
       "          [0.32869518],\n",
       "          [0.2921735 ],\n",
       "          [0.2921735 ]],\n",
       "\n",
       "         ...,\n",
       "\n",
       "         [[0.94956386],\n",
       "          [0.94956386],\n",
       "          [0.94956386],\n",
       "          ...,\n",
       "          [9.276508  ],\n",
       "          [9.276508  ],\n",
       "          [9.276508  ]],\n",
       "\n",
       "         [[0.94956386],\n",
       "          [0.94956386],\n",
       "          [0.94956386],\n",
       "          ...,\n",
       "          [0.        ],\n",
       "          [9.276508  ],\n",
       "          [9.276508  ]],\n",
       "\n",
       "         [[0.94956386],\n",
       "          [0.94956386],\n",
       "          [0.94956386],\n",
       "          ...,\n",
       "          [0.        ],\n",
       "          [9.276508  ],\n",
       "          [9.239987  ]]],\n",
       "\n",
       "\n",
       "        [[[1.3878242 ],\n",
       "          [1.3878242 ],\n",
       "          [1.4243459 ],\n",
       "          ...,\n",
       "          [0.2921735 ],\n",
       "          [0.2921735 ],\n",
       "          [0.2921735 ]],\n",
       "\n",
       "         [[1.3878242 ],\n",
       "          [1.3878242 ],\n",
       "          [1.4243459 ],\n",
       "          ...,\n",
       "          [0.2921735 ],\n",
       "          [0.2921735 ],\n",
       "          [0.2921735 ]],\n",
       "\n",
       "         [[1.4243459 ],\n",
       "          [1.4243459 ],\n",
       "          [1.4243459 ],\n",
       "          ...,\n",
       "          [0.2921735 ],\n",
       "          [0.2556518 ],\n",
       "          [0.2556518 ]],\n",
       "\n",
       "         ...,\n",
       "\n",
       "         [[0.9860856 ],\n",
       "          [0.9860856 ],\n",
       "          [0.9860856 ],\n",
       "          ...,\n",
       "          [0.        ],\n",
       "          [0.03652169],\n",
       "          [0.03652169]],\n",
       "\n",
       "         [[0.94956386],\n",
       "          [0.94956386],\n",
       "          [0.94956386],\n",
       "          ...,\n",
       "          [9.31303   ],\n",
       "          [0.        ],\n",
       "          [0.        ]],\n",
       "\n",
       "         [[0.94956386],\n",
       "          [0.94956386],\n",
       "          [0.94956386],\n",
       "          ...,\n",
       "          [9.31303   ],\n",
       "          [0.        ],\n",
       "          [9.31303   ]]],\n",
       "\n",
       "\n",
       "        [[[1.4243459 ],\n",
       "          [1.4243459 ],\n",
       "          [1.4243459 ],\n",
       "          ...,\n",
       "          [0.2556518 ],\n",
       "          [0.32869518],\n",
       "          [0.32869518]],\n",
       "\n",
       "         [[1.4243459 ],\n",
       "          [1.4243459 ],\n",
       "          [1.4243459 ],\n",
       "          ...,\n",
       "          [0.2556518 ],\n",
       "          [0.32869518],\n",
       "          [0.32869518]],\n",
       "\n",
       "         [[1.4243459 ],\n",
       "          [1.4243459 ],\n",
       "          [1.4243459 ],\n",
       "          ...,\n",
       "          [0.32869518],\n",
       "          [0.2556518 ],\n",
       "          [0.2556518 ]],\n",
       "\n",
       "         ...,\n",
       "\n",
       "         [[0.9860856 ],\n",
       "          [0.9860856 ],\n",
       "          [0.9860856 ],\n",
       "          ...,\n",
       "          [0.        ],\n",
       "          [0.03652169],\n",
       "          [0.03652169]],\n",
       "\n",
       "         [[0.94956386],\n",
       "          [0.94956386],\n",
       "          [0.94956386],\n",
       "          ...,\n",
       "          [0.03652169],\n",
       "          [0.03652169],\n",
       "          [0.        ]],\n",
       "\n",
       "         [[0.94956386],\n",
       "          [0.94956386],\n",
       "          [0.94956386],\n",
       "          ...,\n",
       "          [0.        ],\n",
       "          [0.        ],\n",
       "          [9.31303   ]]],\n",
       "\n",
       "\n",
       "        ...,\n",
       "\n",
       "\n",
       "        [[[1.4608675 ],\n",
       "          [1.4608675 ],\n",
       "          [1.5339109 ],\n",
       "          ...,\n",
       "          [0.2921735 ],\n",
       "          [0.2921735 ],\n",
       "          [0.2921735 ]],\n",
       "\n",
       "         [[1.4608675 ],\n",
       "          [1.4608675 ],\n",
       "          [1.5339109 ],\n",
       "          ...,\n",
       "          [0.21913013],\n",
       "          [0.2556518 ],\n",
       "          [0.32869518]],\n",
       "\n",
       "         [[1.3878242 ],\n",
       "          [1.3513024 ],\n",
       "          [1.3513024 ],\n",
       "          ...,\n",
       "          [0.32869518],\n",
       "          [0.32869518],\n",
       "          [0.32869518]],\n",
       "\n",
       "         ...,\n",
       "\n",
       "         [[1.059129  ],\n",
       "          [1.059129  ],\n",
       "          [1.059129  ],\n",
       "          ...,\n",
       "          [0.07304338],\n",
       "          [0.07304338],\n",
       "          [0.07304338]],\n",
       "\n",
       "         [[1.059129  ],\n",
       "          [1.059129  ],\n",
       "          [1.059129  ],\n",
       "          ...,\n",
       "          [0.07304338],\n",
       "          [0.03652169],\n",
       "          [0.03652169]],\n",
       "\n",
       "         [[1.059129  ],\n",
       "          [1.059129  ],\n",
       "          [1.0226072 ],\n",
       "          ...,\n",
       "          [0.07304338],\n",
       "          [0.03652169],\n",
       "          [0.        ]]],\n",
       "\n",
       "\n",
       "        [[[1.3878242 ],\n",
       "          [1.3878242 ],\n",
       "          [1.5339109 ],\n",
       "          ...,\n",
       "          [0.32869518],\n",
       "          [0.2921735 ],\n",
       "          [0.2921735 ]],\n",
       "\n",
       "         [[1.3878242 ],\n",
       "          [1.3878242 ],\n",
       "          [1.5339109 ],\n",
       "          ...,\n",
       "          [0.18260844],\n",
       "          [0.2556518 ],\n",
       "          [0.36521688]],\n",
       "\n",
       "         [[1.3513024 ],\n",
       "          [1.3513024 ],\n",
       "          [1.3878242 ],\n",
       "          ...,\n",
       "          [0.32869518],\n",
       "          [0.32869518],\n",
       "          [0.32869518]],\n",
       "\n",
       "         ...,\n",
       "\n",
       "         [[1.059129  ],\n",
       "          [1.059129  ],\n",
       "          [0.9860856 ],\n",
       "          ...,\n",
       "          [0.07304338],\n",
       "          [0.07304338],\n",
       "          [0.07304338]],\n",
       "\n",
       "         [[1.059129  ],\n",
       "          [0.9860856 ],\n",
       "          [0.9860856 ],\n",
       "          ...,\n",
       "          [0.07304338],\n",
       "          [0.07304338],\n",
       "          [0.07304338]],\n",
       "\n",
       "         [[0.9860856 ],\n",
       "          [0.9860856 ],\n",
       "          [0.9860856 ],\n",
       "          ...,\n",
       "          [0.07304338],\n",
       "          [0.07304338],\n",
       "          [0.03652169]]],\n",
       "\n",
       "\n",
       "        [[[1.4243459 ],\n",
       "          [1.4243459 ],\n",
       "          [1.5339109 ],\n",
       "          ...,\n",
       "          [0.2921735 ],\n",
       "          [0.2556518 ],\n",
       "          [0.2921735 ]],\n",
       "\n",
       "         [[1.4243459 ],\n",
       "          [1.4243459 ],\n",
       "          [1.5339109 ],\n",
       "          ...,\n",
       "          [0.21913013],\n",
       "          [0.2556518 ],\n",
       "          [0.36521688]],\n",
       "\n",
       "         [[1.3513024 ],\n",
       "          [1.3513024 ],\n",
       "          [1.3878242 ],\n",
       "          ...,\n",
       "          [0.32869518],\n",
       "          [0.36521688],\n",
       "          [0.36521688]],\n",
       "\n",
       "         ...,\n",
       "\n",
       "         [[1.059129  ],\n",
       "          [1.059129  ],\n",
       "          [0.9860856 ],\n",
       "          ...,\n",
       "          [0.03652169],\n",
       "          [0.03652169],\n",
       "          [0.03652169]],\n",
       "\n",
       "         [[1.059129  ],\n",
       "          [0.9860856 ],\n",
       "          [0.9860856 ],\n",
       "          ...,\n",
       "          [0.        ],\n",
       "          [0.        ],\n",
       "          [9.31303   ]],\n",
       "\n",
       "         [[0.9860856 ],\n",
       "          [0.9860856 ],\n",
       "          [0.9860856 ],\n",
       "          ...,\n",
       "          [0.        ],\n",
       "          [0.        ],\n",
       "          [9.31303   ]]]],\n",
       "\n",
       "\n",
       "\n",
       "       [[[[1.4456241 ],\n",
       "          [1.4456241 ],\n",
       "          [1.4456241 ],\n",
       "          ...,\n",
       "          [0.14826913],\n",
       "          [0.40774012],\n",
       "          [0.40774012]],\n",
       "\n",
       "         [[1.4456241 ],\n",
       "          [1.4456241 ],\n",
       "          [1.4456241 ],\n",
       "          ...,\n",
       "          [0.18533641],\n",
       "          [0.40774012],\n",
       "          [0.37067282]],\n",
       "\n",
       "         [[1.4085568 ],\n",
       "          [1.4085568 ],\n",
       "          [1.4085568 ],\n",
       "          ...,\n",
       "          [0.29653826],\n",
       "          [0.33360556],\n",
       "          [0.33360556]],\n",
       "\n",
       "         ...,\n",
       "\n",
       "         [[1.0749512 ],\n",
       "          [1.0008167 ],\n",
       "          [1.0008167 ],\n",
       "          ...,\n",
       "          [0.03706728],\n",
       "          [0.03706728],\n",
       "          [0.03706728]],\n",
       "\n",
       "         [[1.0008167 ],\n",
       "          [1.0008167 ],\n",
       "          [1.0008167 ],\n",
       "          ...,\n",
       "          [0.03706728],\n",
       "          [0.        ],\n",
       "          [0.        ]],\n",
       "\n",
       "         [[1.0008167 ],\n",
       "          [1.0008167 ],\n",
       "          [1.0008167 ],\n",
       "          ...,\n",
       "          [0.03706728],\n",
       "          [0.        ],\n",
       "          [9.452157  ]]],\n",
       "\n",
       "\n",
       "        [[[1.4826913 ],\n",
       "          [1.4826913 ],\n",
       "          [1.4826913 ],\n",
       "          ...,\n",
       "          [0.2224037 ],\n",
       "          [0.37067282],\n",
       "          [0.40774012]],\n",
       "\n",
       "         [[1.4826913 ],\n",
       "          [1.4826913 ],\n",
       "          [1.4826913 ],\n",
       "          ...,\n",
       "          [0.11120185],\n",
       "          [0.29653826],\n",
       "          [0.37067282]],\n",
       "\n",
       "         [[1.4826913 ],\n",
       "          [1.4826913 ],\n",
       "          [1.4456241 ],\n",
       "          ...,\n",
       "          [0.259471  ],\n",
       "          [0.29653826],\n",
       "          [0.29653826]],\n",
       "\n",
       "         ...,\n",
       "\n",
       "         [[1.0008167 ],\n",
       "          [0.96374935],\n",
       "          [0.96374935],\n",
       "          ...,\n",
       "          [0.07413457],\n",
       "          [0.07413457],\n",
       "          [0.07413457]],\n",
       "\n",
       "         [[0.96374935],\n",
       "          [0.96374935],\n",
       "          [1.0008167 ],\n",
       "          ...,\n",
       "          [0.07413457],\n",
       "          [0.03706728],\n",
       "          [0.03706728]],\n",
       "\n",
       "         [[1.0008167 ],\n",
       "          [1.0008167 ],\n",
       "          [1.0008167 ],\n",
       "          ...,\n",
       "          [0.07413457],\n",
       "          [0.03706728],\n",
       "          [0.        ]]],\n",
       "\n",
       "\n",
       "        [[[1.4085568 ],\n",
       "          [1.4085568 ],\n",
       "          [1.4085568 ],\n",
       "          ...,\n",
       "          [0.11120185],\n",
       "          [0.259471  ],\n",
       "          [0.33360556]],\n",
       "\n",
       "         [[1.4085568 ],\n",
       "          [1.4085568 ],\n",
       "          [1.4085568 ],\n",
       "          ...,\n",
       "          [0.        ],\n",
       "          [0.2224037 ],\n",
       "          [0.259471  ]],\n",
       "\n",
       "         [[1.4826913 ],\n",
       "          [1.4826913 ],\n",
       "          [1.4456241 ],\n",
       "          ...,\n",
       "          [0.37067282],\n",
       "          [0.29653826],\n",
       "          [0.33360556]],\n",
       "\n",
       "         ...,\n",
       "\n",
       "         [[1.037884  ],\n",
       "          [1.0008167 ],\n",
       "          [1.0008167 ],\n",
       "          ...,\n",
       "          [0.07413457],\n",
       "          [0.07413457],\n",
       "          [0.07413457]],\n",
       "\n",
       "         [[1.0008167 ],\n",
       "          [1.0008167 ],\n",
       "          [1.0008167 ],\n",
       "          ...,\n",
       "          [0.07413457],\n",
       "          [0.07413457],\n",
       "          [0.07413457]],\n",
       "\n",
       "         [[1.0008167 ],\n",
       "          [1.0008167 ],\n",
       "          [1.0008167 ],\n",
       "          ...,\n",
       "          [0.07413457],\n",
       "          [0.07413457],\n",
       "          [0.        ]]],\n",
       "\n",
       "\n",
       "        ...,\n",
       "\n",
       "\n",
       "        [[[1.4456241 ],\n",
       "          [1.4085568 ],\n",
       "          [1.4826913 ],\n",
       "          ...,\n",
       "          [0.18533641],\n",
       "          [0.29653826],\n",
       "          [0.29653826]],\n",
       "\n",
       "         [[1.4085568 ],\n",
       "          [1.4085568 ],\n",
       "          [1.4826913 ],\n",
       "          ...,\n",
       "          [0.11120185],\n",
       "          [0.2224037 ],\n",
       "          [0.37067282]],\n",
       "\n",
       "         [[1.4456241 ],\n",
       "          [1.4456241 ],\n",
       "          [1.4085568 ],\n",
       "          ...,\n",
       "          [0.29653826],\n",
       "          [0.37067282],\n",
       "          [0.37067282]],\n",
       "\n",
       "         ...,\n",
       "\n",
       "         [[1.0749512 ],\n",
       "          [1.0008167 ],\n",
       "          [0.96374935],\n",
       "          ...,\n",
       "          [0.11120185],\n",
       "          [0.11120185],\n",
       "          [0.07413457]],\n",
       "\n",
       "         [[1.0008167 ],\n",
       "          [1.0008167 ],\n",
       "          [0.96374935],\n",
       "          ...,\n",
       "          [0.11120185],\n",
       "          [0.07413457],\n",
       "          [0.07413457]],\n",
       "\n",
       "         [[1.0008167 ],\n",
       "          [1.0008167 ],\n",
       "          [0.96374935],\n",
       "          ...,\n",
       "          [0.07413457],\n",
       "          [0.07413457],\n",
       "          [0.03706728]]],\n",
       "\n",
       "\n",
       "        [[[1.4826913 ],\n",
       "          [1.4456241 ],\n",
       "          [1.4826913 ],\n",
       "          ...,\n",
       "          [0.18533641],\n",
       "          [0.37067282],\n",
       "          [0.33360556]],\n",
       "\n",
       "         [[1.4456241 ],\n",
       "          [1.4456241 ],\n",
       "          [1.4826913 ],\n",
       "          ...,\n",
       "          [0.18533641],\n",
       "          [0.29653826],\n",
       "          [0.37067282]],\n",
       "\n",
       "         [[1.4456241 ],\n",
       "          [1.4456241 ],\n",
       "          [1.4085568 ],\n",
       "          ...,\n",
       "          [0.29653826],\n",
       "          [0.33360556],\n",
       "          [0.33360556]],\n",
       "\n",
       "         ...,\n",
       "\n",
       "         [[1.1120185 ],\n",
       "          [1.0749512 ],\n",
       "          [1.037884  ],\n",
       "          ...,\n",
       "          [0.11120185],\n",
       "          [0.03706728],\n",
       "          [0.03706728]],\n",
       "\n",
       "         [[1.0749512 ],\n",
       "          [1.0749512 ],\n",
       "          [1.037884  ],\n",
       "          ...,\n",
       "          [0.03706728],\n",
       "          [0.03706728],\n",
       "          [0.        ]],\n",
       "\n",
       "         [[1.0749512 ],\n",
       "          [1.0749512 ],\n",
       "          [1.037884  ],\n",
       "          ...,\n",
       "          [0.03706728],\n",
       "          [0.        ],\n",
       "          [0.        ]]],\n",
       "\n",
       "\n",
       "        [[[1.5197586 ],\n",
       "          [1.4826913 ],\n",
       "          [1.5568259 ],\n",
       "          ...,\n",
       "          [0.18533641],\n",
       "          [0.29653826],\n",
       "          [0.2224037 ]],\n",
       "\n",
       "         [[1.4826913 ],\n",
       "          [1.4826913 ],\n",
       "          [1.5568259 ],\n",
       "          ...,\n",
       "          [0.18533641],\n",
       "          [0.18533641],\n",
       "          [0.29653826]],\n",
       "\n",
       "         [[1.4456241 ],\n",
       "          [1.4456241 ],\n",
       "          [1.4085568 ],\n",
       "          ...,\n",
       "          [0.29653826],\n",
       "          [0.29653826],\n",
       "          [0.29653826]],\n",
       "\n",
       "         ...,\n",
       "\n",
       "         [[1.037884  ],\n",
       "          [1.0008167 ],\n",
       "          [0.96374935],\n",
       "          ...,\n",
       "          [0.14826913],\n",
       "          [0.11120185],\n",
       "          [0.11120185]],\n",
       "\n",
       "         [[1.0008167 ],\n",
       "          [1.0008167 ],\n",
       "          [0.96374935],\n",
       "          ...,\n",
       "          [0.07413457],\n",
       "          [0.07413457],\n",
       "          [0.        ]],\n",
       "\n",
       "         [[1.0008167 ],\n",
       "          [1.0008167 ],\n",
       "          [0.96374935],\n",
       "          ...,\n",
       "          [0.07413457],\n",
       "          [0.        ],\n",
       "          [0.        ]]]]], dtype=float32)"
      ]
     },
     "execution_count": 66,
     "metadata": {},
     "output_type": "execute_result"
    }
   ],
   "execution_count": 66
  },
  {
   "metadata": {
    "ExecuteTime": {
     "end_time": "2025-01-24T08:05:00.320362Z",
     "start_time": "2025-01-24T08:05:00.138169Z"
    }
   },
   "cell_type": "code",
   "source": "imageio.mimsave('./animation.gif', val[0][0], fps=10)",
   "id": "d5b5709900e1db3",
   "outputs": [
    {
     "name": "stderr",
     "output_type": "stream",
     "text": [
      "Lossy conversion from float32 to uint8. Range [0.0, 9.313030242919922]. Convert image to uint8 prior to saving to suppress this warning.\n",
      "Lossy conversion from float32 to uint8. Range [0.0, 9.313030242919922]. Convert image to uint8 prior to saving to suppress this warning.\n",
      "Lossy conversion from float32 to uint8. Range [0.0, 9.313030242919922]. Convert image to uint8 prior to saving to suppress this warning.\n",
      "Lossy conversion from float32 to uint8. Range [0.0, 9.313030242919922]. Convert image to uint8 prior to saving to suppress this warning.\n",
      "Lossy conversion from float32 to uint8. Range [0.0, 9.313030242919922]. Convert image to uint8 prior to saving to suppress this warning.\n",
      "Lossy conversion from float32 to uint8. Range [0.0, 9.313030242919922]. Convert image to uint8 prior to saving to suppress this warning.\n",
      "Lossy conversion from float32 to uint8. Range [0.0, 9.313030242919922]. Convert image to uint8 prior to saving to suppress this warning.\n",
      "Lossy conversion from float32 to uint8. Range [0.0, 9.313030242919922]. Convert image to uint8 prior to saving to suppress this warning.\n",
      "Lossy conversion from float32 to uint8. Range [0.0, 9.313030242919922]. Convert image to uint8 prior to saving to suppress this warning.\n",
      "Lossy conversion from float32 to uint8. Range [0.0, 9.313030242919922]. Convert image to uint8 prior to saving to suppress this warning.\n",
      "Lossy conversion from float32 to uint8. Range [0.0, 9.313030242919922]. Convert image to uint8 prior to saving to suppress this warning.\n",
      "Lossy conversion from float32 to uint8. Range [0.0, 9.313030242919922]. Convert image to uint8 prior to saving to suppress this warning.\n",
      "Lossy conversion from float32 to uint8. Range [0.0, 9.313030242919922]. Convert image to uint8 prior to saving to suppress this warning.\n",
      "Lossy conversion from float32 to uint8. Range [0.0, 9.313030242919922]. Convert image to uint8 prior to saving to suppress this warning.\n",
      "Lossy conversion from float32 to uint8. Range [0.0, 9.313030242919922]. Convert image to uint8 prior to saving to suppress this warning.\n",
      "Lossy conversion from float32 to uint8. Range [0.0, 9.313030242919922]. Convert image to uint8 prior to saving to suppress this warning.\n",
      "Lossy conversion from float32 to uint8. Range [0.0, 9.313030242919922]. Convert image to uint8 prior to saving to suppress this warning.\n",
      "Lossy conversion from float32 to uint8. Range [0.0, 9.313030242919922]. Convert image to uint8 prior to saving to suppress this warning.\n",
      "Lossy conversion from float32 to uint8. Range [0.0, 9.313030242919922]. Convert image to uint8 prior to saving to suppress this warning.\n",
      "Lossy conversion from float32 to uint8. Range [0.0, 9.313030242919922]. Convert image to uint8 prior to saving to suppress this warning.\n",
      "Lossy conversion from float32 to uint8. Range [0.0, 9.313030242919922]. Convert image to uint8 prior to saving to suppress this warning.\n",
      "Lossy conversion from float32 to uint8. Range [0.0, 9.313030242919922]. Convert image to uint8 prior to saving to suppress this warning.\n",
      "Lossy conversion from float32 to uint8. Range [0.0, 9.313030242919922]. Convert image to uint8 prior to saving to suppress this warning.\n",
      "Lossy conversion from float32 to uint8. Range [0.0, 9.313030242919922]. Convert image to uint8 prior to saving to suppress this warning.\n",
      "Lossy conversion from float32 to uint8. Range [0.0, 9.313030242919922]. Convert image to uint8 prior to saving to suppress this warning.\n",
      "Lossy conversion from float32 to uint8. Range [0.0, 9.313030242919922]. Convert image to uint8 prior to saving to suppress this warning.\n",
      "Lossy conversion from float32 to uint8. Range [0.0, 9.313030242919922]. Convert image to uint8 prior to saving to suppress this warning.\n",
      "Lossy conversion from float32 to uint8. Range [0.0, 9.313030242919922]. Convert image to uint8 prior to saving to suppress this warning.\n",
      "Lossy conversion from float32 to uint8. Range [0.0, 9.313030242919922]. Convert image to uint8 prior to saving to suppress this warning.\n",
      "Lossy conversion from float32 to uint8. Range [0.0, 9.313030242919922]. Convert image to uint8 prior to saving to suppress this warning.\n",
      "Lossy conversion from float32 to uint8. Range [0.0, 9.313030242919922]. Convert image to uint8 prior to saving to suppress this warning.\n",
      "Lossy conversion from float32 to uint8. Range [0.0, 9.313030242919922]. Convert image to uint8 prior to saving to suppress this warning.\n",
      "Lossy conversion from float32 to uint8. Range [0.0, 9.313030242919922]. Convert image to uint8 prior to saving to suppress this warning.\n",
      "Lossy conversion from float32 to uint8. Range [0.0, 9.313030242919922]. Convert image to uint8 prior to saving to suppress this warning.\n",
      "Lossy conversion from float32 to uint8. Range [0.0, 9.313030242919922]. Convert image to uint8 prior to saving to suppress this warning.\n",
      "Lossy conversion from float32 to uint8. Range [0.0, 9.313030242919922]. Convert image to uint8 prior to saving to suppress this warning.\n",
      "Lossy conversion from float32 to uint8. Range [0.0, 9.313030242919922]. Convert image to uint8 prior to saving to suppress this warning.\n",
      "Lossy conversion from float32 to uint8. Range [0.0, 9.313030242919922]. Convert image to uint8 prior to saving to suppress this warning.\n",
      "Lossy conversion from float32 to uint8. Range [0.0, 9.313030242919922]. Convert image to uint8 prior to saving to suppress this warning.\n",
      "Lossy conversion from float32 to uint8. Range [0.0, 9.313030242919922]. Convert image to uint8 prior to saving to suppress this warning.\n",
      "Lossy conversion from float32 to uint8. Range [0.0, 9.313030242919922]. Convert image to uint8 prior to saving to suppress this warning.\n",
      "Lossy conversion from float32 to uint8. Range [0.0, 9.313030242919922]. Convert image to uint8 prior to saving to suppress this warning.\n",
      "Lossy conversion from float32 to uint8. Range [0.0, 9.313030242919922]. Convert image to uint8 prior to saving to suppress this warning.\n",
      "Lossy conversion from float32 to uint8. Range [0.0, 9.313030242919922]. Convert image to uint8 prior to saving to suppress this warning.\n",
      "Lossy conversion from float32 to uint8. Range [0.0, 9.313030242919922]. Convert image to uint8 prior to saving to suppress this warning.\n",
      "Lossy conversion from float32 to uint8. Range [0.0, 9.313030242919922]. Convert image to uint8 prior to saving to suppress this warning.\n",
      "Lossy conversion from float32 to uint8. Range [0.0, 9.313030242919922]. Convert image to uint8 prior to saving to suppress this warning.\n",
      "Lossy conversion from float32 to uint8. Range [0.0, 9.313030242919922]. Convert image to uint8 prior to saving to suppress this warning.\n",
      "Lossy conversion from float32 to uint8. Range [0.0, 9.313030242919922]. Convert image to uint8 prior to saving to suppress this warning.\n",
      "Lossy conversion from float32 to uint8. Range [0.0, 9.313030242919922]. Convert image to uint8 prior to saving to suppress this warning.\n",
      "Lossy conversion from float32 to uint8. Range [0.0, 9.313030242919922]. Convert image to uint8 prior to saving to suppress this warning.\n",
      "Lossy conversion from float32 to uint8. Range [0.0, 9.313030242919922]. Convert image to uint8 prior to saving to suppress this warning.\n",
      "Lossy conversion from float32 to uint8. Range [0.0, 9.313030242919922]. Convert image to uint8 prior to saving to suppress this warning.\n",
      "Lossy conversion from float32 to uint8. Range [0.0, 9.313030242919922]. Convert image to uint8 prior to saving to suppress this warning.\n",
      "Lossy conversion from float32 to uint8. Range [0.0, 9.313030242919922]. Convert image to uint8 prior to saving to suppress this warning.\n",
      "Lossy conversion from float32 to uint8. Range [0.0, 9.313030242919922]. Convert image to uint8 prior to saving to suppress this warning.\n",
      "Lossy conversion from float32 to uint8. Range [0.0, 9.313030242919922]. Convert image to uint8 prior to saving to suppress this warning.\n",
      "Lossy conversion from float32 to uint8. Range [0.0, 9.313030242919922]. Convert image to uint8 prior to saving to suppress this warning.\n",
      "Lossy conversion from float32 to uint8. Range [0.0, 9.313030242919922]. Convert image to uint8 prior to saving to suppress this warning.\n",
      "Lossy conversion from float32 to uint8. Range [0.0, 9.313030242919922]. Convert image to uint8 prior to saving to suppress this warning.\n",
      "Lossy conversion from float32 to uint8. Range [0.0, 9.313030242919922]. Convert image to uint8 prior to saving to suppress this warning.\n",
      "Lossy conversion from float32 to uint8. Range [0.0, 9.313030242919922]. Convert image to uint8 prior to saving to suppress this warning.\n",
      "Lossy conversion from float32 to uint8. Range [0.0, 9.313030242919922]. Convert image to uint8 prior to saving to suppress this warning.\n",
      "Lossy conversion from float32 to uint8. Range [0.0, 9.313030242919922]. Convert image to uint8 prior to saving to suppress this warning.\n",
      "Lossy conversion from float32 to uint8. Range [0.0, 9.313030242919922]. Convert image to uint8 prior to saving to suppress this warning.\n",
      "Lossy conversion from float32 to uint8. Range [0.0, 9.313030242919922]. Convert image to uint8 prior to saving to suppress this warning.\n",
      "Lossy conversion from float32 to uint8. Range [0.0, 9.313030242919922]. Convert image to uint8 prior to saving to suppress this warning.\n",
      "Lossy conversion from float32 to uint8. Range [0.0, 9.313030242919922]. Convert image to uint8 prior to saving to suppress this warning.\n",
      "Lossy conversion from float32 to uint8. Range [0.0, 9.313030242919922]. Convert image to uint8 prior to saving to suppress this warning.\n",
      "Lossy conversion from float32 to uint8. Range [0.0, 9.313030242919922]. Convert image to uint8 prior to saving to suppress this warning.\n",
      "Lossy conversion from float32 to uint8. Range [0.0, 9.313030242919922]. Convert image to uint8 prior to saving to suppress this warning.\n",
      "Lossy conversion from float32 to uint8. Range [0.0, 9.313030242919922]. Convert image to uint8 prior to saving to suppress this warning.\n",
      "Lossy conversion from float32 to uint8. Range [0.0, 9.313030242919922]. Convert image to uint8 prior to saving to suppress this warning.\n",
      "Lossy conversion from float32 to uint8. Range [0.0, 9.313030242919922]. Convert image to uint8 prior to saving to suppress this warning.\n",
      "Lossy conversion from float32 to uint8. Range [0.0, 9.313030242919922]. Convert image to uint8 prior to saving to suppress this warning.\n"
     ]
    }
   ],
   "execution_count": 67
  },
  {
   "metadata": {
    "ExecuteTime": {
     "end_time": "2025-01-24T08:05:00.971727Z",
     "start_time": "2025-01-24T08:05:00.902249Z"
    }
   },
   "cell_type": "code",
   "source": [
    "# First index: return videos\n",
    "# Second index: return the first video out of the batch\n",
    "# Third index: return the first frame in the video\n",
    "plt.imshow(val[0][0][35])"
   ],
   "id": "c7ab84fea43b98b4",
   "outputs": [
    {
     "data": {
      "text/plain": [
       "<matplotlib.image.AxesImage at 0x3e1d7b750>"
      ]
     },
     "execution_count": 68,
     "metadata": {},
     "output_type": "execute_result"
    },
    {
     "data": {
      "text/plain": [
       "<Figure size 640x480 with 1 Axes>"
      ],
      "image/png": "[encoded data removed]"
     },
     "metadata": {},
     "output_type": "display_data"
    }
   ],
   "execution_count": 68
  },
  {
   "metadata": {
    "ExecuteTime": {
     "end_time": "2025-01-24T08:05:01.044763Z",
     "start_time": "2025-01-24T08:05:00.994043Z"
    }
   },
   "cell_type": "code",
   "source": "tf.strings.reduce_join([num_to_char(word) for word in val[1][0]])",
   "id": "ffe79a0d4789cef2",
   "outputs": [
    {
     "data": {
      "text/plain": [
       "<tf.Tensor: shape=(), dtype=string, numpy=b'set green in o eight please'>"
      ]
     },
     "execution_count": 69,
     "metadata": {},
     "output_type": "execute_result"
    }
   ],
   "execution_count": 69
  },
  {
   "metadata": {},
   "cell_type": "markdown",
   "source": "### Building the Deep Neural Network ###",
   "id": "d096f410af569a31"
  },
  {
   "metadata": {
    "ExecuteTime": {
     "end_time": "2025-01-24T08:05:01.064352Z",
     "start_time": "2025-01-24T08:05:01.059714Z"
    }
   },
   "cell_type": "code",
   "source": [
    "from tensorflow.keras.models import Sequential\n",
    "from tensorflow.keras.layers import Conv3D, LSTM, Dense, Dropout, Bidirectional, MaxPool3D, Activation, Reshape, SpatialDropout3D, BatchNormalization, TimeDistributed, Flatten\n",
    "from tensorflow.keras.optimizers import Adam\n",
    "from tensorflow.keras.callbacks import ModelCheckpoint, LearningRateScheduler"
   ],
   "id": "c505620d00c05474",
   "outputs": [],
   "execution_count": 70
  },
  {
   "metadata": {
    "ExecuteTime": {
     "end_time": "2025-01-24T08:05:02.130382Z",
     "start_time": "2025-01-24T08:05:01.082158Z"
    }
   },
   "cell_type": "code",
   "source": [
    "model = Sequential()\n",
    "model.add(Conv3D(128, 3, input_shape=(75, 46, 140, 1), padding='same'))\n",
    "model.add(Activation('relu'))\n",
    "model.add(MaxPool3D((1, 2, 2)))\n",
    "\n",
    "model.add(Conv3D(256, 3, padding='same'))\n",
    "model.add(Activation('relu'))\n",
    "model.add(MaxPool3D((1, 2, 2)))\n",
    "\n",
    "model.add(Conv3D(75, 3, padding='same'))\n",
    "model.add(Activation('relu'))\n",
    "model.add(MaxPool3D((1, 2, 2)))\n",
    "\n",
    "model.add(TimeDistributed(Flatten()))\n",
    "\n",
    "model.add(Bidirectional(LSTM(128, kernel_initializer='Orthogonal', return_sequences=True)))\n",
    "model.add(Dropout(rate=.5))\n",
    "\n",
    "model.add(Bidirectional(LSTM(128, kernel_initializer='Orthogonal', return_sequences=True)))\n",
    "model.add(Dropout(rate=.5))\n",
    "\n",
    "model.add(Dense(char_to_num.vocabulary_size()+1, kernel_initializer='he_normal', activation='softmax'))"
   ],
   "id": "cd4f348f80fb3e22",
   "outputs": [],
   "execution_count": 71
  },
  {
   "metadata": {
    "ExecuteTime": {
     "end_time": "2025-01-24T08:05:02.147152Z",
     "start_time": "2025-01-24T08:05:02.134361Z"
    }
   },
   "cell_type": "code",
   "source": "model.summary()",
   "id": "46e3d921a4ac826",
   "outputs": [
    {
     "name": "stdout",
     "output_type": "stream",
     "text": [
      "Model: \"sequential_1\"\n",
      "_________________________________________________________________\n",
      " Layer (type)                Output Shape              Param #   \n",
      "=================================================================\n",
      " conv3d_3 (Conv3D)           (None, 75, 46, 140, 128)  3584      \n",
      "                                                                 \n",
      " activation_3 (Activation)   (None, 75, 46, 140, 128)  0         \n",
      "                                                                 \n",
      " max_pooling3d_3 (MaxPooling  (None, 75, 23, 70, 128)  0         \n",
      " 3D)                                                             \n",
      "                                                                 \n",
      " conv3d_4 (Conv3D)           (None, 75, 23, 70, 256)   884992    \n",
      "                                                                 \n",
      " activation_4 (Activation)   (None, 75, 23, 70, 256)   0         \n",
      "                                                                 \n",
      " max_pooling3d_4 (MaxPooling  (None, 75, 11, 35, 256)  0         \n",
      " 3D)                                                             \n",
      "                                                                 \n",
      " conv3d_5 (Conv3D)           (None, 75, 11, 35, 75)    518475    \n",
      "                                                                 \n",
      " activation_5 (Activation)   (None, 75, 11, 35, 75)    0         \n",
      "                                                                 \n",
      " max_pooling3d_5 (MaxPooling  (None, 75, 5, 17, 75)    0         \n",
      " 3D)                                                             \n",
      "                                                                 \n",
      " time_distributed_1 (TimeDis  (None, 75, 6375)         0         \n",
      " tributed)                                                       \n",
      "                                                                 \n",
      " bidirectional_2 (Bidirectio  (None, 75, 256)          6660096   \n",
      " nal)                                                            \n",
      "                                                                 \n",
      " dropout_2 (Dropout)         (None, 75, 256)           0         \n",
      "                                                                 \n",
      " bidirectional_3 (Bidirectio  (None, 75, 256)          394240    \n",
      " nal)                                                            \n",
      "                                                                 \n",
      " dropout_3 (Dropout)         (None, 75, 256)           0         \n",
      "                                                                 \n",
      " dense_1 (Dense)             (None, 75, 41)            10537     \n",
      "                                                                 \n",
      "=================================================================\n",
      "Total params: 8,471,924\n",
      "Trainable params: 8,471,924\n",
      "Non-trainable params: 0\n",
      "_________________________________________________________________\n"
     ]
    }
   ],
   "execution_count": 72
  },
  {
   "metadata": {
    "ExecuteTime": {
     "end_time": "2025-01-24T08:05:08.109509Z",
     "start_time": "2025-01-24T08:05:02.160810Z"
    }
   },
   "cell_type": "code",
   "source": "yhat = model.predict(val[0])",
   "id": "3d001bfcd38d40eb",
   "outputs": [
    {
     "name": "stdout",
     "output_type": "stream",
     "text": [
      "1/1 [==============================] - 6s 6s/step\n"
     ]
    }
   ],
   "execution_count": 73
  },
  {
   "metadata": {
    "ExecuteTime": {
     "end_time": "2025-01-24T08:05:08.205499Z",
     "start_time": "2025-01-24T08:05:08.134449Z"
    }
   },
   "cell_type": "code",
   "source": "tf.strings.reduce_join([num_to_char(x) for x in tf.argmax(yhat[0], axis=1)])",
   "id": "930c4c28c5bc344d",
   "outputs": [
    {
     "data": {
      "text/plain": [
       "<tf.Tensor: shape=(), dtype=string, numpy=b'1jjjj8999999888889999999999999999999999888888888888888888888888888888888888'>"
      ]
     },
     "execution_count": 74,
     "metadata": {},
     "output_type": "execute_result"
    }
   ],
   "execution_count": 74
  },
  {
   "metadata": {
    "ExecuteTime": {
     "end_time": "2025-01-24T08:05:08.313606Z",
     "start_time": "2025-01-24T08:05:08.209624Z"
    }
   },
   "cell_type": "code",
   "source": "tf.strings.reduce_join([num_to_char(tf.argmax(x)) for x in yhat[0]])",
   "id": "a25014ed3f6f29cd",
   "outputs": [
    {
     "data": {
      "text/plain": [
       "<tf.Tensor: shape=(), dtype=string, numpy=b'1jjjj8999999888889999999999999999999999888888888888888888888888888888888888'>"
      ]
     },
     "execution_count": 75,
     "metadata": {},
     "output_type": "execute_result"
    }
   ],
   "execution_count": 75
  },
  {
   "metadata": {
    "ExecuteTime": {
     "end_time": "2025-01-24T08:05:08.325334Z",
     "start_time": "2025-01-24T08:05:08.321935Z"
    }
   },
   "cell_type": "code",
   "source": "model.input_shape",
   "id": "51b5e4e25f8fc665",
   "outputs": [
    {
     "data": {
      "text/plain": [
       "(None, 75, 46, 140, 1)"
      ]
     },
     "execution_count": 76,
     "metadata": {},
     "output_type": "execute_result"
    }
   ],
   "execution_count": 76
  },
  {
   "metadata": {
    "ExecuteTime": {
     "end_time": "2025-01-24T08:05:08.338005Z",
     "start_time": "2025-01-24T08:05:08.334754Z"
    }
   },
   "cell_type": "code",
   "source": "model.output_shape",
   "id": "98fc533181bdae9b",
   "outputs": [
    {
     "data": {
      "text/plain": [
       "(None, 75, 41)"
      ]
     },
     "execution_count": 77,
     "metadata": {},
     "output_type": "execute_result"
    }
   ],
   "execution_count": 77
  },
  {
   "metadata": {
    "ExecuteTime": {
     "end_time": "2025-01-24T08:05:08.366571Z",
     "start_time": "2025-01-24T08:05:08.364760Z"
    }
   },
   "cell_type": "code",
   "source": [
    "def scheduler(epoch, lr):\n",
    "    if epoch < 30:\n",
    "        return lr\n",
    "    else:\n",
    "        return lr * tf.math.exp(-0.1)"
   ],
   "id": "f6bfd432bdfa8624",
   "outputs": [],
   "execution_count": 78
  },
  {
   "metadata": {
    "ExecuteTime": {
     "end_time": "2025-01-24T08:05:08.387405Z",
     "start_time": "2025-01-24T08:05:08.384248Z"
    }
   },
   "cell_type": "code",
   "source": [
    "def CTCLoss(y_true, y_pred):\n",
    "    batch_len = tf.cast(tf.shape(y_true)[0], dtype='int64')\n",
    "    input_length = tf.cast(tf.shape(y_pred)[1], dtype='int64')\n",
    "    label_length = tf.cast(tf.shape(y_true)[1], dtype='int64')\n",
    "\n",
    "    input_length = input_length * tf.ones(shape=(batch_len, 1), dtype='int64')\n",
    "    label_length = label_length * tf.ones(shape=(batch_len, 1), dtype='int64')\n",
    "\n",
    "    loss = tf.keras.backend.ctc_batch_cost(y_true, y_pred, input_length, label_length)\n",
    "    return loss"
   ],
   "id": "34b2eb0ad34fc465",
   "outputs": [],
   "execution_count": 79
  },
  {
   "metadata": {
    "ExecuteTime": {
     "end_time": "2025-01-24T08:05:08.407699Z",
     "start_time": "2025-01-24T08:05:08.403785Z"
    }
   },
   "cell_type": "code",
   "source": [
    "class ProduceExample(tf.keras.callbacks.Callback):\n",
    "    def __init__(self, dataset) -> None:\n",
    "        self.dataset = dataset.as_numpy_iterator()\n",
    "\n",
    "    def on_epoch_end(self, epoch, logs=None) -> None:\n",
    "        data = self.dataset.next()\n",
    "        yhat = self.model.predict(data[0])\n",
    "        decoded = tf.keras.backend.ctc_decode(yhat, [75, 75], greedy=False)[0][0].numpy()\n",
    "        for x in range(len(yhat)):\n",
    "            print('Original: ', tf.strings.reduce_join([vocab[word] + ' ' for word in data[1][x]]).numpy().decode('utf-8'))\n",
    "            print('Prediction: ', tf.strings.reduce_join([vocab[word] + ' ' for word in decoded[x]]).numpy().decode('utf-8'))\n",
    "            print('~' * 100)"
   ],
   "id": "855f46dd4bfb6926",
   "outputs": [],
   "execution_count": 80
  },
  {
   "metadata": {
    "ExecuteTime": {
     "end_time": "2025-01-24T08:05:08.418254Z",
     "start_time": "2025-01-24T08:05:08.410333Z"
    }
   },
   "cell_type": "code",
   "source": "model.compile(optimizer=tf.keras.optimizers.legacy.Adam(learning_rate=0.0001), loss=CTCLoss)",
   "id": "24126f829d9e629c",
   "outputs": [],
   "execution_count": 81
  },
  {
   "metadata": {
    "ExecuteTime": {
     "end_time": "2025-01-24T08:05:08.428777Z",
     "start_time": "2025-01-24T08:05:08.426080Z"
    }
   },
   "cell_type": "code",
   "source": "checkpoint_callback = ModelCheckpoint(os.path.join('models', 'checkpoint'), monitor='loss', save_weights_only=True)",
   "id": "fdb0453374a557f3",
   "outputs": [],
   "execution_count": 82
  },
  {
   "metadata": {
    "ExecuteTime": {
     "end_time": "2025-01-24T08:05:08.438308Z",
     "start_time": "2025-01-24T08:05:08.436290Z"
    }
   },
   "cell_type": "code",
   "source": "schedule_callback = LearningRateScheduler(scheduler)",
   "id": "d62c18e2cdcdf679",
   "outputs": [],
   "execution_count": 83
  },
  {
   "metadata": {
    "ExecuteTime": {
     "end_time": "2025-01-24T08:05:08.453939Z",
     "start_time": "2025-01-24T08:05:08.445421Z"
    }
   },
   "cell_type": "code",
   "source": "example_callback = ProduceExample(data)",
   "id": "eedc2437d716a37c",
   "outputs": [],
   "execution_count": 84
  },
  {
   "metadata": {
    "ExecuteTime": {
     "end_time": "2025-01-24T08:49:56.085460Z",
     "start_time": "2025-01-24T08:49:56.073388Z"
    }
   },
   "cell_type": "code",
   "source": [
    "## Training the model:\n",
    "# model.fit(train, validation_data=test, epochs=100, callbacks=[checkpoint_callback, schedule_callback, example_callback])"
   ],
   "id": "21c0c21d27b3f5ba",
   "outputs": [],
   "execution_count": 89
  },
  {
   "metadata": {
    "ExecuteTime": {
     "end_time": "2025-01-24T10:00:07.051859Z",
     "start_time": "2025-01-24T09:59:32.898712Z"
    }
   },
   "cell_type": "code",
   "source": [
    "# Downloading pre-trained model checkpoints:\n",
    "url = 'https://drive.google.com/uc?id=1vWscXs4Vt0a_1IH1-ct2TCgXAZT-N3_Y'\n",
    "output = 'checkpoints.zip'\n",
    "gdown.download(url, output)\n",
    "gdown.extractall('checkpoints.zip', 'models')"
   ],
   "id": "f503ffdacc127b1d",
   "outputs": [
    {
     "name": "stderr",
     "output_type": "stream",
     "text": [
      "Downloading...\n",
      "From: https://drive.google.com/uc?id=1vWscXs4Vt0a_1IH1-ct2TCgXAZT-N3_Y\n",
      "To: /Users/azizimanov/Desktop/Machine Learning/Projects/LipReading/checkpoints.zip\n",
      "100%|██████████| 94.5M/94.5M [00:27<00:00, 3.39MB/s]\n"
     ]
    },
    {
     "data": {
      "text/plain": [
       "['models/checkpoint.index',\n",
       " 'models/__MACOSX/._checkpoint.index',\n",
       " 'models/checkpoint.data-00000-of-00001',\n",
       " 'models/__MACOSX/._checkpoint.data-00000-of-00001',\n",
       " 'models/checkpoint',\n",
       " 'models/__MACOSX/._checkpoint']"
      ]
     },
     "execution_count": 90,
     "metadata": {},
     "output_type": "execute_result"
    }
   ],
   "execution_count": 90
  },
  {
   "metadata": {
    "ExecuteTime": {
     "end_time": "2025-01-24T10:02:14.355768Z",
     "start_time": "2025-01-24T10:02:14.017998Z"
    }
   },
   "cell_type": "code",
   "source": [
    "# Loading the pre-trained parameters into the model:\n",
    "model.load_weights('models/checkpoint')"
   ],
   "id": "ce2da2b29b9cf1b8",
   "outputs": [
    {
     "data": {
      "text/plain": [
       "<tensorflow.python.checkpoint.checkpoint.CheckpointLoadStatus at 0x367c37a50>"
      ]
     },
     "execution_count": 91,
     "metadata": {},
     "output_type": "execute_result"
    }
   ],
   "execution_count": 91
  },
  {
   "metadata": {
    "ExecuteTime": {
     "end_time": "2025-01-24T10:03:10.385976Z",
     "start_time": "2025-01-24T10:03:10.304181Z"
    }
   },
   "cell_type": "code",
   "source": "test_data = test.as_numpy_iterator()",
   "id": "9b18528db9d0320a",
   "outputs": [],
   "execution_count": 92
  },
  {
   "metadata": {
    "ExecuteTime": {
     "end_time": "2025-01-24T10:21:07.221368Z",
     "start_time": "2025-01-24T10:21:07.207875Z"
    }
   },
   "cell_type": "code",
   "source": "sample = test_data.next()",
   "id": "4bc7a1f35acda022",
   "outputs": [],
   "execution_count": 109
  },
  {
   "metadata": {
    "ExecuteTime": {
     "end_time": "2025-01-24T10:21:09.969495Z",
     "start_time": "2025-01-24T10:21:08.096108Z"
    }
   },
   "cell_type": "code",
   "source": "yhat = model.predict(sample[0])",
   "id": "ecd43249d09d28f",
   "outputs": [
    {
     "name": "stdout",
     "output_type": "stream",
     "text": [
      "1/1 [==============================] - 2s 2s/step\n"
     ]
    }
   ],
   "execution_count": 110
  },
  {
   "metadata": {
    "ExecuteTime": {
     "end_time": "2025-01-24T10:21:10.053965Z",
     "start_time": "2025-01-24T10:21:10.044910Z"
    }
   },
   "cell_type": "code",
   "source": [
    "# Decoding the prediction with CTC:\n",
    "decoded = tf.keras.backend.ctc_decode(yhat, input_length=[75, 75], greedy=True)[0][0].numpy()"
   ],
   "id": "8a4d33277f097add",
   "outputs": [],
   "execution_count": 111
  },
  {
   "metadata": {
    "ExecuteTime": {
     "end_time": "2025-01-24T10:21:12.098056Z",
     "start_time": "2025-01-24T10:21:11.983585Z"
    }
   },
   "cell_type": "code",
   "source": [
    "print('~'*100, 'PREDICTIONS')\n",
    "[tf.strings.reduce_join([num_to_char(word) for word in sentence]) for sentence in decoded]"
   ],
   "id": "f228d179a0b87230",
   "outputs": [
    {
     "name": "stdout",
     "output_type": "stream",
     "text": [
      "~~~~~~~~~~~~~~~~~~~~~~~~~~~~~~~~~~~~~~~~~~~~~~~~~~~~~~~~~~~~~~~~~~~~~~~~~~~~~~~~~~~~~~~~~~~~~~~~~~~~ PREDICTIONS\n"
     ]
    },
    {
     "data": {
      "text/plain": [
       "[<tf.Tensor: shape=(), dtype=string, numpy=b'place blue at v four please'>,\n",
       " <tf.Tensor: shape=(), dtype=string, numpy=b'lay whte at l four please'>]"
      ]
     },
     "execution_count": 112,
     "metadata": {},
     "output_type": "execute_result"
    }
   ],
   "execution_count": 112
  },
  {
   "metadata": {
    "ExecuteTime": {
     "end_time": "2025-01-24T10:21:14.720544Z",
     "start_time": "2025-01-24T10:21:14.652578Z"
    }
   },
   "cell_type": "code",
   "source": [
    "print('~'*100, 'REAL TEXT')\n",
    "[tf.strings.reduce_join([num_to_char(word) for word in sentence]) for sentence in sample[1]]"
   ],
   "id": "3490138b7321dcc2",
   "outputs": [
    {
     "name": "stdout",
     "output_type": "stream",
     "text": [
      "~~~~~~~~~~~~~~~~~~~~~~~~~~~~~~~~~~~~~~~~~~~~~~~~~~~~~~~~~~~~~~~~~~~~~~~~~~~~~~~~~~~~~~~~~~~~~~~~~~~~ REAL TEXT\n"
     ]
    },
    {
     "data": {
      "text/plain": [
       "[<tf.Tensor: shape=(), dtype=string, numpy=b'place blue at v four please'>,\n",
       " <tf.Tensor: shape=(), dtype=string, numpy=b'lay white at l four please'>]"
      ]
     },
     "execution_count": 113,
     "metadata": {},
     "output_type": "execute_result"
    }
   ],
   "execution_count": 113
  },
  {
   "metadata": {},
   "cell_type": "markdown",
   "source": "### Testing on a video ###",
   "id": "ef6ae9b31501f72f"
  },
  {
   "metadata": {
    "ExecuteTime": {
     "end_time": "2025-01-24T10:37:58.205254Z",
     "start_time": "2025-01-24T10:37:57.868859Z"
    }
   },
   "cell_type": "code",
   "source": "sample_2 = load_data(tf.convert_to_tensor(os.path.join('.', 'data', 's1', 'bras9a.mpg')))",
   "id": "3473fdd1e151ffe9",
   "outputs": [],
   "execution_count": 145
  },
  {
   "metadata": {
    "ExecuteTime": {
     "end_time": "2025-01-24T10:37:59.773849Z",
     "start_time": "2025-01-24T10:37:58.655604Z"
    }
   },
   "cell_type": "code",
   "source": "yhat = model.predict(tf.expand_dims(sample_2[0], axis=0))",
   "id": "8597e56992f2a33b",
   "outputs": [
    {
     "name": "stdout",
     "output_type": "stream",
     "text": [
      "1/1 [==============================] - 1s 1s/step\n"
     ]
    }
   ],
   "execution_count": 146
  },
  {
   "metadata": {
    "ExecuteTime": {
     "end_time": "2025-01-24T10:37:59.853918Z",
     "start_time": "2025-01-24T10:37:59.846694Z"
    }
   },
   "cell_type": "code",
   "source": "yhat.shape",
   "id": "de97a1031dcba6d5",
   "outputs": [
    {
     "data": {
      "text/plain": [
       "(1, 75, 41)"
      ]
     },
     "execution_count": 147,
     "metadata": {},
     "output_type": "execute_result"
    }
   ],
   "execution_count": 147
  },
  {
   "metadata": {
    "ExecuteTime": {
     "end_time": "2025-01-24T10:37:59.941694Z",
     "start_time": "2025-01-24T10:37:59.926923Z"
    }
   },
   "cell_type": "code",
   "source": "decoded = tf.keras.backend.ctc_decode(yhat, input_length=[75], greedy=True)[0][0].numpy()",
   "id": "dc43bc4b133023d1",
   "outputs": [],
   "execution_count": 148
  },
  {
   "metadata": {
    "ExecuteTime": {
     "end_time": "2025-01-24T10:38:00.156431Z",
     "start_time": "2025-01-24T10:38:00.087979Z"
    }
   },
   "cell_type": "code",
   "source": [
    "print('~'*100, 'PREDICTION')\n",
    "[tf.strings.reduce_join([num_to_char(word) for word in sentence]) for sentence in decoded]"
   ],
   "id": "2cac3356cbcd496d",
   "outputs": [
    {
     "name": "stdout",
     "output_type": "stream",
     "text": [
      "~~~~~~~~~~~~~~~~~~~~~~~~~~~~~~~~~~~~~~~~~~~~~~~~~~~~~~~~~~~~~~~~~~~~~~~~~~~~~~~~~~~~~~~~~~~~~~~~~~~~ PREDICTION\n"
     ]
    },
    {
     "data": {
      "text/plain": [
       "[<tf.Tensor: shape=(), dtype=string, numpy=b'bhn red at s nhne agahn'>]"
      ]
     },
     "execution_count": 149,
     "metadata": {},
     "output_type": "execute_result"
    }
   ],
   "execution_count": 149
  },
  {
   "metadata": {
    "ExecuteTime": {
     "end_time": "2025-01-24T10:38:06.415501Z",
     "start_time": "2025-01-24T10:38:06.382502Z"
    }
   },
   "cell_type": "code",
   "source": [
    "print('~'*100), 'REAL TEXT'\n",
    "[tf.strings.reduce_join([num_to_char(word) for word in sentence]) for sentence in [sample_2[1]]]"
   ],
   "id": "ab05caec92b0d415",
   "outputs": [
    {
     "name": "stdout",
     "output_type": "stream",
     "text": [
      "~~~~~~~~~~~~~~~~~~~~~~~~~~~~~~~~~~~~~~~~~~~~~~~~~~~~~~~~~~~~~~~~~~~~~~~~~~~~~~~~~~~~~~~~~~~~~~~~~~~~\n"
     ]
    },
    {
     "data": {
      "text/plain": [
       "[<tf.Tensor: shape=(), dtype=string, numpy=b'bin red at s nine again'>]"
      ]
     },
     "execution_count": 150,
     "metadata": {},
     "output_type": "execute_result"
    }
   ],
   "execution_count": 150
  },
  {
   "metadata": {
    "ExecuteTime": {
     "end_time": "2025-02-08T18:48:51.233338Z",
     "start_time": "2025-02-08T18:48:51.230959Z"
    }
   },
   "cell_type": "code",
   "source": [
    "x = [[0], [1]]\n",
    "print((''.join(list(map(str, x)))))"
   ],
   "id": "e6d2becbf23b3bb5",
   "outputs": [
    {
     "name": "stdout",
     "output_type": "stream",
     "text": [
      "[0][1]\n"
     ]
    }
   ],
   "execution_count": 30
  },
  {
   "metadata": {
    "ExecuteTime": {
     "end_time": "2025-02-08T18:51:58.292829Z",
     "start_time": "2025-02-08T18:51:58.289964Z"
    }
   },
   "cell_type": "code",
   "source": "(type(''.join(list(map(str, x)))))",
   "id": "888b7d67faf17cd5",
   "outputs": [
    {
     "data": {
      "text/plain": [
       "str"
      ]
     },
     "execution_count": 38,
     "metadata": {},
     "output_type": "execute_result"
    }
   ],
   "execution_count": 38
  }
 ],
 "metadata": {
  "kernelspec": {
   "display_name": "Python 3 (ipykernel)",
   "language": "python",
   "name": "python3"
  },
  "language_info": {
   "codemirror_mode": {
    "name": "ipython",
    "version": 3
   },
   "file_extension": ".py",
   "mimetype": "text/x-python",
   "name": "python",
   "nbconvert_exporter": "python",
   "pygments_lexer": "ipython3",
   "version": "3.12.7"
  }
 },
 "nbformat": 4,
 "nbformat_minor": 5
}
